{
 "cells": [
  {
   "cell_type": "code",
   "execution_count": 1,
   "id": "0f0bc8ae",
   "metadata": {},
   "outputs": [],
   "source": [
    "from flask import Flask, render_template, redirect, url_for, request\n",
    "import pandas as pd\n",
    "import numpy as np\n",
    "import pickle"
   ]
  },
  {
   "cell_type": "code",
   "execution_count": 2,
   "id": "6436dbfe",
   "metadata": {},
   "outputs": [],
   "source": [
    "popularity_df = pickle.load(open('popularity_df.pkl', 'rb'))\n",
    "cf = pickle.load(open('cf.pkl', 'rb'))\n",
    "similarity = pickle.load(open('similarity.pkl', 'rb'))\n",
    "books = pickle.load(open('books.pkl', 'rb'))"
   ]
  },
  {
   "cell_type": "code",
   "execution_count": 3,
   "id": "b2cd896e",
   "metadata": {},
   "outputs": [],
   "source": [
    "app = Flask(__name__)"
   ]
  },
  {
   "cell_type": "code",
   "execution_count": 4,
   "id": "1f68151e",
   "metadata": {},
   "outputs": [],
   "source": [
    "@app.route('/')\n",
    "def popular_books():\n",
    "    return render_template('popular_books.html', \n",
    "                           book_title = list(popularity_df['book_title'].values),\n",
    "                           book_author = list(popularity_df['book_author'].values),\n",
    "                           y_o_p = list(popularity_df['year_of_publication'].values),\n",
    "                           image = list(popularity_df['image_url_m'].values),\n",
    "                           votes = list(popularity_df['no_of_ratings'].values),\n",
    "                           rate = list(round(popularity_df['avg_rating'], 2).values),\n",
    "                           title = 'Popular Books')"
   ]
  },
  {
   "cell_type": "code",
   "execution_count": 5,
   "id": "329322b0",
   "metadata": {},
   "outputs": [],
   "source": [
    "@app.route('/recommend')\n",
    "def reccomend():\n",
    "    return render_template('recommend_books.html')\n",
    "\n",
    "\n",
    "@app.route('/recommend_books', methods = ['GET', 'POST'])\n",
    "def recommend_books():\n",
    "    user_input = request.form.get('user_input')\n",
    "    index = np.where(cf.index == user_input)[0][0]\n",
    "    similar_books = sorted(list(enumerate(similarity[index])), key=lambda x: x[1], reverse=True)[1:5]\n",
    "\n",
    "    data = []\n",
    "    for i in similar_books:\n",
    "        item = []\n",
    "        temp_df = books[books['book_title'] == cf.index[i[0]]]\n",
    "        item.extend(list(temp_df.drop_duplicates('book_title')['image_url_m'].values))\n",
    "        item.extend(list(temp_df.drop_duplicates('book_title')['book_title'].values))\n",
    "        item.extend(list(temp_df.drop_duplicates('book_title')['book_author'].values))\n",
    "        item.extend(list(temp_df.drop_duplicates('book_title')['year_of_publication'].values))\n",
    "        item.extend(list(temp_df.drop_duplicates('book_title')['no_of_ratings'].values))\n",
    "        item.extend(list(round(temp_df.drop_duplicates('book_title')['avg_rating'], 2).values))\n",
    "\n",
    "        data.append(item)\n",
    "\n",
    "#     print(data)\n",
    "\n",
    "    return render_template('recommend_books.html', data = data)"
   ]
  },
  {
   "cell_type": "code",
   "execution_count": 6,
   "id": "5b7c6bf6",
   "metadata": {},
   "outputs": [
    {
     "name": "stdout",
     "output_type": "stream",
     "text": [
      " * Serving Flask app \"__main__\" (lazy loading)\n",
      " * Environment: production\n",
      "\u001b[31m   WARNING: This is a development server. Do not use it in a production deployment.\u001b[0m\n",
      "\u001b[2m   Use a production WSGI server instead.\u001b[0m\n",
      " * Debug mode: off\n"
     ]
    },
    {
     "name": "stderr",
     "output_type": "stream",
     "text": [
      " * Running on http://127.0.0.1:5000/ (Press CTRL+C to quit)\n"
     ]
    }
   ],
   "source": [
    "if __name__ == '__main__':\n",
    "    app.run()"
   ]
  },
  {
   "cell_type": "code",
   "execution_count": 8,
   "id": "989de110",
   "metadata": {},
   "outputs": [
    {
     "name": "stdout",
     "output_type": "stream",
     "text": [
      "Requirement already satisfied: pipreqs in c:\\users\\piyus\\anaconda3\\lib\\site-packages (0.4.11)\n",
      "Requirement already satisfied: yarg in c:\\users\\piyus\\anaconda3\\lib\\site-packages (from pipreqs) (0.1.9)\n",
      "Requirement already satisfied: docopt in c:\\users\\piyus\\anaconda3\\lib\\site-packages (from pipreqs) (0.6.2)\n",
      "Requirement already satisfied: requests in c:\\users\\piyus\\anaconda3\\lib\\site-packages (from yarg->pipreqs) (2.28.1)\n",
      "Requirement already satisfied: idna<4,>=2.5 in c:\\users\\piyus\\anaconda3\\lib\\site-packages (from requests->yarg->pipreqs) (3.4)\n",
      "Requirement already satisfied: certifi>=2017.4.17 in c:\\users\\piyus\\anaconda3\\lib\\site-packages (from requests->yarg->pipreqs) (2022.9.24)\n",
      "Requirement already satisfied: charset-normalizer<3,>=2 in c:\\users\\piyus\\anaconda3\\lib\\site-packages (from requests->yarg->pipreqs) (2.0.4)\n",
      "Requirement already satisfied: urllib3<1.27,>=1.21.1 in c:\\users\\piyus\\anaconda3\\lib\\site-packages (from requests->yarg->pipreqs) (1.26.12)\n"
     ]
    }
   ],
   "source": [
    "!pip install pipreqs"
   ]
  },
  {
   "cell_type": "code",
   "execution_count": null,
   "id": "da6b2912",
   "metadata": {},
   "outputs": [],
   "source": []
  }
 ],
 "metadata": {
  "kernelspec": {
   "display_name": "Python 3 (ipykernel)",
   "language": "python",
   "name": "python3"
  },
  "language_info": {
   "codemirror_mode": {
    "name": "ipython",
    "version": 3
   },
   "file_extension": ".py",
   "mimetype": "text/x-python",
   "name": "python",
   "nbconvert_exporter": "python",
   "pygments_lexer": "ipython3",
   "version": "3.9.13"
  },
  "vscode": {
   "interpreter": {
    "hash": "40a9731cf7deda1a633a130f55dc54dfab29983b34b8d96c83f6c93bbaf9f520"
   }
  }
 },
 "nbformat": 4,
 "nbformat_minor": 5
}
